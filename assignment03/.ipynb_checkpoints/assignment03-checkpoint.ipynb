{
 "cells": [
  {
   "cell_type": "code",
   "execution_count": 2,
   "metadata": {
    "collapsed": true
   },
   "outputs": [],
   "source": [
    "%matplotlib inline\n",
    "from pandas import Series, DataFrame\n",
    "import operator\n",
    "import pandas as pd\n",
    "import numpy as np\n",
    "import matplotlib.pyplot as plt\n",
    "import copy\n",
    "import math"
   ]
  },
  {
   "cell_type": "code",
   "execution_count": 3,
   "metadata": {
    "collapsed": false
   },
   "outputs": [],
   "source": [
    "file_dir = 'Assignment 3.xls'\n",
    "frame_movie = pd.read_excel(file_dir, sheetname = \"movie-row\")"
   ]
  },
  {
   "cell_type": "code",
   "execution_count": 4,
   "metadata": {
    "collapsed": false
   },
   "outputs": [],
   "source": [
    "frame_user = pd.read_excel(file_dir, sheetname = \"user-row\")"
   ]
  },
  {
   "cell_type": "code",
   "execution_count": 158,
   "metadata": {
    "collapsed": false
   },
   "outputs": [],
   "source": [
    "# Part1 - Without Normalization\n",
    "def predict(id):\n",
    "    frame_correlations = pd.read_excel(file_dir, sheetname = \"correlations\")\n",
    "    frame_predict = pd.read_excel(file_dir, sheetname = \"more-row\").fillna(0)\n",
    "    neighbors = frame_correlations[id].sort_values(ascending = False)[1:6]\n",
    "\n",
    "    for i in frame_predict.index:\n",
    "        s = 0\n",
    "        for j in neighbors.index:\n",
    "            if np.isnan(frame_movie[j][i]) == False:\n",
    "                frame_predict[id][i] = frame_predict[id][i] + frame_movie[j][i]*neighbors[j]\n",
    "                s = s + neighbors[j]\n",
    "    \n",
    "        frame_predict[id][i] = frame_predict[id][i] / s    \n",
    "        \n",
    "    return frame_predict[id].sort_values(ascending = False)"
   ]
  },
  {
   "cell_type": "code",
   "execution_count": 159,
   "metadata": {
    "collapsed": false
   },
   "outputs": [
    {
     "name": "stdout",
     "output_type": "stream",
     "text": [
      "641: Requiem for a Dream (2000)                                  5.000000\n",
      "603: The Matrix (1999)                                           4.855924\n",
      "105: Back to the Future (1985)                                   4.739173\n",
      "107: Snatch (2000)                                               4.651432\n",
      "155: The Dark Knight (2008)                                      4.622564\n",
      "121: The Lord of the Rings: The Two Towers (2002)                4.616916\n",
      "120: The Lord of the Rings: The Fellowship of the Ring (2001)    4.616916\n",
      "122: The Lord of the Rings: The Return of the King (2003)        4.571337\n",
      "77: Memento (2000)                                               4.494735\n",
      "1572: Die Hard: With a Vengeance (1995)                          4.457406\n",
      "Name: 3712, dtype: float64\n"
     ]
    }
   ],
   "source": [
    "print predict(3712)[:10]"
   ]
  },
  {
   "cell_type": "code",
   "execution_count": 160,
   "metadata": {
    "collapsed": false
   },
   "outputs": [
    {
     "name": "stdout",
     "output_type": "stream",
     "text": [
      "38: Eternal Sunshine of the Spotless Mind (2004)    5.000000\n",
      "238: The Godfather (1972)                           5.000000\n",
      "194: Amelie (2001)                                  5.000000\n",
      "807: Seven (a.k.a. Se7en) (1995)                    4.826360\n",
      "275: Fargo (1996)                                   4.818688\n",
      "424: Schindler's List (1993)                        4.784595\n",
      "8587: The Lion King (1994)                          4.756592\n",
      "585: Monsters Inc. (2001)                           4.756559\n",
      "77: Memento (2000)                                  4.743519\n",
      "155: The Dark Knight (2008)                         4.683375\n",
      "Name: 3525, dtype: float64\n"
     ]
    }
   ],
   "source": [
    "print predict(3525)[:10]"
   ]
  },
  {
   "cell_type": "code",
   "execution_count": 215,
   "metadata": {
    "collapsed": false
   },
   "outputs": [],
   "source": [
    "# Part 2 - Normalization\n",
    "def predict_with_normalization(id):\n",
    "    frame_correlations = pd.read_excel(file_dir, sheetname = \"correlations\")\n",
    "    frame_predict = pd.read_excel(file_dir, sheetname = \"more-row\").fillna(0)\n",
    "    neighbors = frame_correlations[id].sort_values(ascending = False)[1:6]\n",
    "    for i in frame_predict.index:\n",
    "        s = 0\n",
    "        for j in neighbors.index:\n",
    "            if np.isnan(frame_movie[j][i]) == False:\n",
    "                frame_predict[id][i] = frame_predict[id][i] + (frame_movie[j][i] - frame_movie[j].mean())*neighbors[j]\n",
    "                s = s + neighbors[j]\n",
    "    \n",
    "        frame_predict[id][i] = frame_predict[id][i] / s\n",
    "        frame_predict[id][i] = frame_predict[id][i] + frame_movie[id].mean()\n",
    "                  \n",
    "    return frame_predict[id].sort_values(ascending = False)\n"
   ]
  },
  {
   "cell_type": "code",
   "execution_count": 214,
   "metadata": {
    "collapsed": false
   },
   "outputs": [
    {
     "data": {
      "text/plain": [
       "641: Requiem for a Dream (2000)                                                       5.900000\n",
       "603: The Matrix (1999)                                                                5.545567\n",
       "105: Back to the Future (1985)                                                        5.500585\n",
       "155: The Dark Knight (2008)                                                           5.312207\n",
       "121: The Lord of the Rings: The Two Towers (2002)                                     5.306559\n",
       "120: The Lord of the Rings: The Fellowship of the Ring (2001)                         5.306559\n",
       "122: The Lord of the Rings: The Return of the King (2003)                             5.260979\n",
       "1572: Die Hard: With a Vengeance (1995)                                               5.254060\n",
       "85: Raiders of the Lost Ark (Indiana Jones and the Raiders of the Lost Ark) (1981)    5.197040\n",
       "107: Snatch (2000)                                                                    5.159935\n",
       "Name: 3712, dtype: float64"
      ]
     },
     "execution_count": 214,
     "metadata": {},
     "output_type": "execute_result"
    }
   ],
   "source": [
    "predict_with_normalization(3712)[0:10]"
   ]
  },
  {
   "cell_type": "code",
   "execution_count": 216,
   "metadata": {
    "collapsed": false
   },
   "outputs": [
    {
     "data": {
      "text/plain": [
       "238: The Godfather (1972)                4.759504\n",
       "424: Schindler's List (1993)             4.663251\n",
       "134: O Brother Where Art Thou? (2000)    4.585337\n",
       "275: Fargo (1996)                        4.493350\n",
       "8587: The Lion King (1994)               4.480462\n",
       "194: Amelie (2001)                       4.440849\n",
       "680: Pulp Fiction (1994)                 4.407459\n",
       "807: Seven (a.k.a. Se7en) (1995)         4.395978\n",
       "568: Apollo 13 (1995)                    4.384622\n",
       "274: The Silence of the Lambs (1991)     4.384622\n",
       "Name: 3525, dtype: float64"
      ]
     },
     "execution_count": 216,
     "metadata": {},
     "output_type": "execute_result"
    }
   ],
   "source": [
    "predict_with_normalization(3525)[0:10]"
   ]
  },
  {
   "cell_type": "code",
   "execution_count": 219,
   "metadata": {
    "collapsed": false
   },
   "outputs": [
    {
     "data": {
      "text/plain": [
       "1891: Star Wars: Episode V - The Empire Strikes Back (1980)      4.760291\n",
       "155: The Dark Knight (2008)                                      4.551454\n",
       "122: The Lord of the Rings: The Return of the King (2003)        4.507637\n",
       "77: Memento (2000)                                               4.472487\n",
       "121: The Lord of the Rings: The Two Towers (2002)                4.400194\n",
       "603: The Matrix (1999)                                           4.394379\n",
       "585: Monsters Inc. (2001)                                        4.330601\n",
       "807: Seven (a.k.a. Se7en) (1995)                                 4.319125\n",
       "120: The Lord of the Rings: The Fellowship of the Ring (2001)    4.289846\n",
       "238: The Godfather (1972)                                        4.240594\n",
       "Name: 3867, dtype: float64"
      ]
     },
     "execution_count": 219,
     "metadata": {},
     "output_type": "execute_result"
    }
   ],
   "source": [
    "# Quiz - Part1\n",
    "# 1 ~ 6\n",
    "predict(3867)[0:10]"
   ]
  },
  {
   "cell_type": "code",
   "execution_count": 221,
   "metadata": {
    "collapsed": false
   },
   "outputs": [
    {
     "data": {
      "text/plain": [
       "238: The Godfather (1972)                                    4.894124\n",
       "278: The Shawshank Redemption (1994)                         4.882194\n",
       "807: Seven (a.k.a. Se7en) (1995)                             4.774093\n",
       "275: Fargo (1996)                                            4.770944\n",
       "424: Schindler's List (1993)                                 4.729056\n",
       "122: The Lord of the Rings: The Return of the King (2003)    4.695962\n",
       "13: Forrest Gump (1994)                                      4.601470\n",
       "38: Eternal Sunshine of the Spotless Mind (2004)             4.551396\n",
       "453: A Beautiful Mind (2001)                                 4.543231\n",
       "121: The Lord of the Rings: The Two Towers (2002)            4.527800\n",
       "Name: 89, dtype: float64"
      ]
     },
     "execution_count": 221,
     "metadata": {},
     "output_type": "execute_result"
    }
   ],
   "source": [
    "# Quiz - Part1\n",
    "# 7 ~ 12\n",
    "predict(89)[0:10]"
   ]
  },
  {
   "cell_type": "code",
   "execution_count": 222,
   "metadata": {
    "collapsed": false
   },
   "outputs": [
    {
     "data": {
      "text/plain": [
       "1891: Star Wars: Episode V - The Empire Strikes Back (1980)                           5.245509\n",
       "155: The Dark Knight (2008)                                                           4.856770\n",
       "77: Memento (2000)                                                                    4.777803\n",
       "275: Fargo (1996)                                                                     4.771538\n",
       "807: Seven (a.k.a. Se7en) (1995)                                                      4.655569\n",
       "122: The Lord of the Rings: The Return of the King (2003)                             4.600989\n",
       "11: Star Wars: Episode IV - A New Hope (1977)                                         4.505800\n",
       "121: The Lord of the Rings: The Two Towers (2002)                                     4.493546\n",
       "603: The Matrix (1999)                                                                4.487731\n",
       "85: Raiders of the Lost Ark (Indiana Jones and the Raiders of the Lost Ark) (1981)    4.485082\n",
       "Name: 3867, dtype: float64"
      ]
     },
     "execution_count": 222,
     "metadata": {},
     "output_type": "execute_result"
    }
   ],
   "source": [
    "# Quiz - Part2\n",
    "# 13 ~ 18\n",
    "predict_with_normalization(3867)[0:10]"
   ]
  },
  {
   "cell_type": "code",
   "execution_count": 223,
   "metadata": {
    "collapsed": false
   },
   "outputs": [
    {
     "data": {
      "text/plain": [
       "238: The Godfather (1972)                                    5.322015\n",
       "278: The Shawshank Redemption (1994)                         5.261424\n",
       "275: Fargo (1996)                                            5.241111\n",
       "807: Seven (a.k.a. Se7en) (1995)                             5.201984\n",
       "424: Schindler's List (1993)                                 5.199223\n",
       "122: The Lord of the Rings: The Return of the King (2003)    5.186846\n",
       "105: Back to the Future (1985)                               5.073048\n",
       "550: Fight Club (1999)                                       5.069939\n",
       "13: Forrest Gump (1994)                                      5.049074\n",
       "680: Pulp Fiction (1994)                                     5.046814\n",
       "Name: 89, dtype: float64"
      ]
     },
     "execution_count": 223,
     "metadata": {},
     "output_type": "execute_result"
    }
   ],
   "source": [
    "# Quiz - Part2\n",
    "# 19 ~ 24\n",
    "predict_with_normalization(89)[0:10]"
   ]
  },
  {
   "cell_type": "code",
   "execution_count": null,
   "metadata": {
    "collapsed": true
   },
   "outputs": [],
   "source": []
  }
 ],
 "metadata": {
  "kernelspec": {
   "display_name": "Python 2",
   "language": "python",
   "name": "python2"
  },
  "language_info": {
   "codemirror_mode": {
    "name": "ipython",
    "version": 2
   },
   "file_extension": ".py",
   "mimetype": "text/x-python",
   "name": "python",
   "nbconvert_exporter": "python",
   "pygments_lexer": "ipython2",
   "version": "2.7.10"
  }
 },
 "nbformat": 4,
 "nbformat_minor": 0
}
