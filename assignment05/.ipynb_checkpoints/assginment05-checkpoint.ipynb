{
 "cells": [
  {
   "cell_type": "code",
   "execution_count": 9,
   "metadata": {
    "collapsed": true
   },
   "outputs": [],
   "source": [
    "%matplotlib inline\n",
    "from pandas import Series, DataFrame\n",
    "import pandas as pd\n",
    "import operator\n",
    "import numpy as np\n",
    "import matplotlib.pyplot as plt\n",
    "import copy\n",
    "import math\n",
    "from scipy.spatial.distance import cosine"
   ]
  },
  {
   "cell_type": "code",
   "execution_count": 10,
   "metadata": {
    "collapsed": true
   },
   "outputs": [],
   "source": [
    "file_dir = 'Assignment 5.xls'\n",
    "ratings = pd.read_excel(file_dir, sheetname =\"Ratings\")\n",
    "norm_ratings = pd.read_excel(file_dir, sheetname = \"NormRatings\")\n",
    "matrix = pd.read_excel(file_dir, sheetname = \"Matrix\")\n",
    "filter_matrix = pd.read_excel(file_dir, sheetnanme = \"FilterMatrix\")"
   ]
  },
  {
   "cell_type": "code",
   "execution_count": 162,
   "metadata": {
    "collapsed": false
   },
   "outputs": [
    {
     "data": {
      "text/plain": [
       "Index([u'User', u'1: Toy Story (1995)',\n",
       "       u'1210: Star Wars: Episode VI - Return of the Jedi (1983)',\n",
       "       u'356: Forrest Gump (1994)', u'318: Shawshank Redemption, The (1994)',\n",
       "       u'593: Silence of the Lambs, The (1991)', u'3578: Gladiator (2000)',\n",
       "       u'260: Star Wars: Episode IV - A New Hope (1977)',\n",
       "       u'2028: Saving Private Ryan (1998)', u'296: Pulp Fiction (1994)',\n",
       "       u'1259: Stand by Me (1986)', u'2396: Shakespeare in Love (1998)',\n",
       "       u'2916: Total Recall (1990)', u'780: Independence Day (ID4) (1996)',\n",
       "       u'541: Blade Runner (1982)', u'1265: Groundhog Day (1993)',\n",
       "       u'2571: Matrix, The (1999)', u'527: Schindler's List (1993)',\n",
       "       u'2762: Sixth Sense, The (1999)',\n",
       "       u'1198: Raiders of the Lost Ark (1981)', u'34: Babe (1995)', u'Mean'],\n",
       "      dtype='object')"
      ]
     },
     "execution_count": 162,
     "metadata": {},
     "output_type": "execute_result"
    }
   ],
   "source": [
    "ratings.columns"
   ]
  },
  {
   "cell_type": "code",
   "execution_count": 105,
   "metadata": {
    "collapsed": false
   },
   "outputs": [],
   "source": [
    "def item_item_sim(a, b):\n",
    "    sim = 0.0\n",
    "    suma = 0.0\n",
    "    sumb = 0.0\n",
    "    sumc = 0.0\n",
    "    for i in range(len(a) - 1):\n",
    "        if pd.isnull(a[i]) == False:\n",
    "            if pd.isnull(b[i]) == False:\n",
    "                mean = ratings.iloc[i]['Mean']\n",
    "                suma += (a[i] - mean)*(b[i] - mean)\n",
    "                sumb += math.pow((a[i] - mean), 2)\n",
    "                sumc += math.pow((b[i] - mean), 2)\n",
    "\n",
    "    sim = suma/ (math.sqrt(sumb)*math.sqrt(sumc))\n",
    "    return sim"
   ]
  },
  {
   "cell_type": "code",
   "execution_count": null,
   "metadata": {
    "collapsed": true
   },
   "outputs": [],
   "source": [
    "sim = 0.0\n",
    "suma = 0.0\n",
    "sumb = 0.0\n",
    "sumc = 0.0\n",
    "for i in range(len(ratings[u'1: Toy Story (1995)']) - 1):\n",
    "    if pd.isnull(ratings[u'1: Toy Story (1995)'][i]) == False:\n",
    "        if pd.isnull(ratings[u'1210: Star Wars: Episode VI - Return of the Jedi (1983)'][i]) == False:\n",
    "            mean = ratings.iloc[i]['Mean']\n",
    "            suma += (ratings[u'1: Toy Story (1995)'][i] - mean)*(ratings[u'1210: Star Wars: Episode VI - Return of the Jedi (1983)'][i] - mean)\n",
    "            sumb += math.pow((ratings[u'1: Toy Story (1995)'][i] - mean), 2)\n",
    "            sumc += math.pow(ratings[u'1210: Star Wars: Episode VI - Return of the Jedi (1983)'][i] - mean, 2)\n",
    "\n",
    "print suma, sumb, sumc\n",
    "print suma/ (math.sqrt(sumb)*math.sqrt(sumc))"
   ]
  },
  {
   "cell_type": "code",
   "execution_count": 106,
   "metadata": {
    "collapsed": false
   },
   "outputs": [
    {
     "data": {
      "text/plain": [
       "-0.43645361989587111"
      ]
     },
     "execution_count": 106,
     "metadata": {},
     "output_type": "execute_result"
    }
   ],
   "source": [
    "item_item_sim(ratings[u'1: Toy Story (1995)'], ratings[u'1210: Star Wars: Episode VI - Return of the Jedi (1983)'])"
   ]
  },
  {
   "cell_type": "code",
   "execution_count": 132,
   "metadata": {
    "collapsed": false
   },
   "outputs": [
    {
     "name": "stdout",
     "output_type": "stream",
     "text": [
      "[(u'1: Toy Story (1995)', 1.0000000000000002), (u'34: Babe (1995)', 0.82680030697807705), (u'356: Forrest Gump (1994)', 0.53038731633822089), (u'318: Shawshank Redemption, The (1994)', 0.52055615599373273), (u'296: Pulp Fiction (1994)', 0.47889128525873376), (u'2028: Saving Private Ryan (1998)', 0.44539871962204014), (u'2916: Total Recall (1990)', 0.27290844728630714), (u'2396: Shakespeare in Love (1998)', 0.24131689894967404), (u'3578: Gladiator (2000)', 0.17935710909154254), (u'541: Blade Runner (1982)', 0.046171017961956225), (u'260: Star Wars: Episode IV - A New Hope (1977)', -0.053998786971338489), (u'1265: Groundhog Day (1993)', -0.14013494809762042), (u\"527: Schindler's List (1993)\", -0.20683282661230953), (u'2762: Sixth Sense, The (1999)', -0.30336885627056875), (u'1198: Raiders of the Lost Ark (1981)', -0.35328985835088966), (u'780: Independence Day (ID4) (1996)', -0.37126840466580774), (u'1259: Stand by Me (1986)', -0.41507225060310937), (u'1210: Star Wars: Episode VI - Return of the Jedi (1983)', -0.43645361989587111), (u'2571: Matrix, The (1999)', -0.62505143725816537), (u'593: Silence of the Lambs, The (1991)', -0.87230637951266798)]\n"
     ]
    }
   ],
   "source": [
    "from operator import itemgetter\n",
    "d = dict()\n",
    "for i in ratings.columns[1:21]:\n",
    "    sim = item_item_sim(ratings[u'1: Toy Story (1995)'], ratings[i])\n",
    "    d[i] = sim\n",
    "    \n",
    "print(sorted(d.iteritems(), key=itemgetter(1), reverse=True))"
   ]
  },
  {
   "cell_type": "code",
   "execution_count": 197,
   "metadata": {
    "collapsed": true
   },
   "outputs": [],
   "source": [
    "def item_item_sim_unnorm(a, b):\n",
    "    sim = 0.0\n",
    "    suma = 0.0\n",
    "    sumb = 0.0\n",
    "    sumc = 0.0\n",
    "    for i in range(len(a[:20])):\n",
    "        if pd.isnull(a[i]) == False:\n",
    "            if pd.isnull(b[i]) == False:\n",
    "                mean = ratings.iloc[i]['Mean']\n",
    "                suma += (a[i])*(b[i])\n",
    "                sumb += a[i]*a[i]\n",
    "                sumc += b[i]*b[i]\n",
    "\n",
    "    sim = suma/ (a[20]*b[20])\n",
    "    return max(sim, 0)"
   ]
  },
  {
   "cell_type": "code",
   "execution_count": 198,
   "metadata": {
    "collapsed": false
   },
   "outputs": [
    {
     "data": {
      "text/plain": [
       "0.64499527716334881"
      ]
     },
     "execution_count": 198,
     "metadata": {},
     "output_type": "execute_result"
    }
   ],
   "source": [
    "item_item_sim_unnorm(ratings[u'1: Toy Story (1995)'], ratings[u'1210: Star Wars: Episode VI - Return of the Jedi (1983)'])"
   ]
  },
  {
   "cell_type": "code",
   "execution_count": 199,
   "metadata": {
    "collapsed": false
   },
   "outputs": [
    {
     "name": "stdout",
     "output_type": "stream",
     "text": [
      "[(u'1: Toy Story (1995)', 1.0), (u'260: Star Wars: Episode IV - A New Hope (1977)', 0.74740931868365978), (u'780: Independence Day (ID4) (1996)', 0.69066535568274501), (u'296: Pulp Fiction (1994)', 0.6678455653180938), (u'318: Shawshank Redemption, The (1994)', 0.66742381247191462), (u'1265: Groundhog Day (1993)', 0.66101639552982017), (u'1210: Star Wars: Episode VI - Return of the Jedi (1983)', 0.64499527716334881), (u'2916: Total Recall (1990)', 0.62305598284903352), (u'34: Babe (1995)', 0.61807004620073769), (u'3578: Gladiator (2000)', 0.58785229535293682), (u'356: Forrest Gump (1994)', 0.58053961024813405), (u'593: Silence of the Lambs, The (1991)', 0.57022915597378976), (u'2028: Saving Private Ryan (1998)', 0.53457862819597413), (u'2571: Matrix, The (1999)', 0.50501002842084297), (u'1259: Stand by Me (1986)', 0.49265895172303803), (u'1198: Raiders of the Lost Ark (1981)', 0.46681653306710785), (u\"527: Schindler's List (1993)\", 0.46381682852195866), (u'2762: Sixth Sense, The (1999)', 0.4216370213557839), (u'541: Blade Runner (1982)', 0.38306740660459998), (u'2396: Shakespeare in Love (1998)', 0.3766588923446067)]\n"
     ]
    }
   ],
   "source": [
    "#Quiz1\n",
    "from operator import itemgetter\n",
    "d = dict()\n",
    "for i in ratings.columns[1:21]:\n",
    "    sim = item_item_sim_unnorm(ratings[u'1: Toy Story (1995)'], ratings[i])\n",
    "    d[i] = sim\n",
    "    \n",
    "print(sorted(d.iteritems(), key=itemgetter(1), reverse=True))"
   ]
  },
  {
   "cell_type": "code",
   "execution_count": 235,
   "metadata": {
    "collapsed": false
   },
   "outputs": [
    {
     "name": "stdout",
     "output_type": "stream",
     "text": [
      "[(u\"527: Schindler's List (1993)\", 2.9738833825830238), (u'1259: Stand by Me (1986)', 2.9288008978668989), (u'260: Star Wars: Episode IV - A New Hope (1977)', 2.9222401343343751), (u'593: Silence of the Lambs, The (1991)', 2.883304159272289), (u'2396: Shakespeare in Love (1998)', 2.8521305874805973), (u'1198: Raiders of the Lost Ark (1981)', 2.8181547746216626), (u'3578: Gladiator (2000)', 2.8097667519781759), (u'296: Pulp Fiction (1994)', 2.8027971011907153), (u'541: Blade Runner (1982)', 2.7842520940793496), (u'2028: Saving Private Ryan (1998)', 2.7802181220722759), (u'1210: Star Wars: Episode VI - Return of the Jedi (1983)', 2.7742152158304085), (u'2571: Matrix, The (1999)', 2.770176203123428), (u'318: Shawshank Redemption, The (1994)', 2.7239631000194673), (u'2762: Sixth Sense, The (1999)', 2.7162671331726407), (u'356: Forrest Gump (1994)', 2.7085502730962281), (u'2916: Total Recall (1990)', 2.7018261412839544), (u'1265: Groundhog Day (1993)', 2.6907197332431223), (u'780: Independence Day (ID4) (1996)', 2.6749509995371694), (u'1: Toy Story (1995)', 2.6668982678575537), (u'34: Babe (1995)', 2.6109454185869558)]\n"
     ]
    }
   ],
   "source": [
    "#Quiz2\n",
    "d = dict()\n",
    "for i in ratings.columns[1:21]:\n",
    "    sum_a = 0.0\n",
    "    sum_b = 0.0\n",
    "    for j in ratings.columns[1:21]:\n",
    "        if pd.isnull(ratings.iloc[1][1:21][j]) == False:\n",
    "            sum_a += item_item_sim_unnorm(ratings[i], ratings[j])*ratings.iloc[1][1:21][j]\n",
    "            sum_b += abs(item_item_sim_unnorm(ratings[i], ratings[j]))\n",
    "    \n",
    "    d[i] = sum_a/sum_b\n",
    "\n",
    "print(sorted(d.iteritems(), key=itemgetter(1), reverse=True))"
   ]
  },
  {
   "cell_type": "code",
   "execution_count": null,
   "metadata": {
    "collapsed": true
   },
   "outputs": [],
   "source": []
  }
 ],
 "metadata": {
  "kernelspec": {
   "display_name": "Python 2",
   "language": "python",
   "name": "python2"
  },
  "language_info": {
   "codemirror_mode": {
    "name": "ipython",
    "version": 2
   },
   "file_extension": ".py",
   "mimetype": "text/x-python",
   "name": "python",
   "nbconvert_exporter": "python",
   "pygments_lexer": "ipython2",
   "version": "2.7.10"
  }
 },
 "nbformat": 4,
 "nbformat_minor": 0
}
