{
 "cells": [
  {
   "cell_type": "code",
   "execution_count": 9,
   "metadata": {
    "collapsed": true
   },
   "outputs": [],
   "source": [
    "%matplotlib inline\n",
    "from pandas import Series, DataFrame\n",
    "import pandas as pd\n",
    "import operator\n",
    "import numpy as np\n",
    "import matplotlib.pyplot as plt\n",
    "import copy\n",
    "import math\n",
    "from scipy.spatial.distance import cosine"
   ]
  },
  {
   "cell_type": "code",
   "execution_count": 10,
   "metadata": {
    "collapsed": true
   },
   "outputs": [],
   "source": [
    "file_dir = 'Assignment 5.xls'\n",
    "ratings = pd.read_excel(file_dir, sheetname =\"Ratings\")\n",
    "norm_ratings = pd.read_excel(file_dir, sheetname = \"NormRatings\")\n",
    "matrix = pd.read_excel(file_dir, sheetname = \"Matrix\")\n",
    "filter_matrix = pd.read_excel(file_dir, sheetnanme = \"FilterMatrix\")"
   ]
  },
  {
   "cell_type": "code",
   "execution_count": 162,
   "metadata": {
    "collapsed": false
   },
   "outputs": [
    {
     "data": {
      "text/plain": [
       "Index([u'User', u'1: Toy Story (1995)',\n",
       "       u'1210: Star Wars: Episode VI - Return of the Jedi (1983)',\n",
       "       u'356: Forrest Gump (1994)', u'318: Shawshank Redemption, The (1994)',\n",
       "       u'593: Silence of the Lambs, The (1991)', u'3578: Gladiator (2000)',\n",
       "       u'260: Star Wars: Episode IV - A New Hope (1977)',\n",
       "       u'2028: Saving Private Ryan (1998)', u'296: Pulp Fiction (1994)',\n",
       "       u'1259: Stand by Me (1986)', u'2396: Shakespeare in Love (1998)',\n",
       "       u'2916: Total Recall (1990)', u'780: Independence Day (ID4) (1996)',\n",
       "       u'541: Blade Runner (1982)', u'1265: Groundhog Day (1993)',\n",
       "       u'2571: Matrix, The (1999)', u'527: Schindler's List (1993)',\n",
       "       u'2762: Sixth Sense, The (1999)',\n",
       "       u'1198: Raiders of the Lost Ark (1981)', u'34: Babe (1995)', u'Mean'],\n",
       "      dtype='object')"
      ]
     },
     "execution_count": 162,
     "metadata": {},
     "output_type": "execute_result"
    }
   ],
   "source": [
    "ratings.columns"
   ]
  },
  {
   "cell_type": "code",
   "execution_count": 238,
   "metadata": {
    "collapsed": false
   },
   "outputs": [],
   "source": [
    "def item_item_sim(a, b):\n",
    "    sim = 0.0\n",
    "    suma = 0.0\n",
    "    sumb = 0.0\n",
    "    sumc = 0.0\n",
    "    for i in range(len(a) - 1):\n",
    "        if pd.isnull(a[i]) == False:\n",
    "            if pd.isnull(b[i]) == False:\n",
    "                mean = ratings.iloc[i]['Mean']\n",
    "                suma += (a[i])*(b[i])\n",
    "                sumb += math.pow((a[i]), 2)\n",
    "                sumc += math.pow((b[i]), 2)\n",
    "\n",
    "    sim = suma/ (math.sqrt(sumb)*math.sqrt(sumc))\n",
    "    return sim"
   ]
  },
  {
   "cell_type": "code",
   "execution_count": 106,
   "metadata": {
    "collapsed": false
   },
   "outputs": [
    {
     "data": {
      "text/plain": [
       "-0.43645361989587111"
      ]
     },
     "execution_count": 106,
     "metadata": {},
     "output_type": "execute_result"
    }
   ],
   "source": [
    "item_item_sim(ratings[u'1: Toy Story (1995)'], ratings[u'1210: Star Wars: Episode VI - Return of the Jedi (1983)'])"
   ]
  },
  {
   "cell_type": "code",
   "execution_count": 237,
   "metadata": {
    "collapsed": true
   },
   "outputs": [],
   "source": [
    "def item_item_sim_unnorm(a, b):\n",
    "    sim = 0.0\n",
    "    suma = 0.0\n",
    "    sumb = 0.0\n",
    "    sumc = 0.0\n",
    "    for i in range(len(a[:20])):\n",
    "        if pd.isnull(a[i]) == False:\n",
    "            if pd.isnull(b[i]) == False:\n",
    "                mean = ratings.iloc[i]['Mean']\n",
    "                suma += (a[i])*(b[i])\n",
    "\n",
    "    sim = suma/ (a[20]*b[20])\n",
    "    return max(sim, 0)"
   ]
  },
  {
   "cell_type": "code",
   "execution_count": 198,
   "metadata": {
    "collapsed": false
   },
   "outputs": [
    {
     "data": {
      "text/plain": [
       "0.64499527716334881"
      ]
     },
     "execution_count": 198,
     "metadata": {},
     "output_type": "execute_result"
    }
   ],
   "source": [
    "item_item_sim_unnorm(ratings[u'1: Toy Story (1995)'], ratings[u'1210: Star Wars: Episode VI - Return of the Jedi (1983)'])"
   ]
  },
  {
   "cell_type": "code",
   "execution_count": 199,
   "metadata": {
    "collapsed": false
   },
   "outputs": [
    {
     "name": "stdout",
     "output_type": "stream",
     "text": [
      "[(u'1: Toy Story (1995)', 1.0), (u'260: Star Wars: Episode IV - A New Hope (1977)', 0.74740931868365978), (u'780: Independence Day (ID4) (1996)', 0.69066535568274501), (u'296: Pulp Fiction (1994)', 0.6678455653180938), (u'318: Shawshank Redemption, The (1994)', 0.66742381247191462), (u'1265: Groundhog Day (1993)', 0.66101639552982017), (u'1210: Star Wars: Episode VI - Return of the Jedi (1983)', 0.64499527716334881), (u'2916: Total Recall (1990)', 0.62305598284903352), (u'34: Babe (1995)', 0.61807004620073769), (u'3578: Gladiator (2000)', 0.58785229535293682), (u'356: Forrest Gump (1994)', 0.58053961024813405), (u'593: Silence of the Lambs, The (1991)', 0.57022915597378976), (u'2028: Saving Private Ryan (1998)', 0.53457862819597413), (u'2571: Matrix, The (1999)', 0.50501002842084297), (u'1259: Stand by Me (1986)', 0.49265895172303803), (u'1198: Raiders of the Lost Ark (1981)', 0.46681653306710785), (u\"527: Schindler's List (1993)\", 0.46381682852195866), (u'2762: Sixth Sense, The (1999)', 0.4216370213557839), (u'541: Blade Runner (1982)', 0.38306740660459998), (u'2396: Shakespeare in Love (1998)', 0.3766588923446067)]\n"
     ]
    }
   ],
   "source": [
    "#Quiz1\n",
    "from operator import itemgetter\n",
    "d = dict()\n",
    "for i in ratings.columns[1:21]:\n",
    "    sim = item_item_sim_unnorm(ratings[u'1: Toy Story (1995)'], ratings[i])\n",
    "    d[i] = sim\n",
    "    \n",
    "print(sorted(d.iteritems(), key=itemgetter(1), reverse=True))"
   ]
  },
  {
   "cell_type": "code",
   "execution_count": 235,
   "metadata": {
    "collapsed": false
   },
   "outputs": [
    {
     "name": "stdout",
     "output_type": "stream",
     "text": [
      "[(u\"527: Schindler's List (1993)\", 2.9738833825830238), (u'1259: Stand by Me (1986)', 2.9288008978668989), (u'260: Star Wars: Episode IV - A New Hope (1977)', 2.9222401343343751), (u'593: Silence of the Lambs, The (1991)', 2.883304159272289), (u'2396: Shakespeare in Love (1998)', 2.8521305874805973), (u'1198: Raiders of the Lost Ark (1981)', 2.8181547746216626), (u'3578: Gladiator (2000)', 2.8097667519781759), (u'296: Pulp Fiction (1994)', 2.8027971011907153), (u'541: Blade Runner (1982)', 2.7842520940793496), (u'2028: Saving Private Ryan (1998)', 2.7802181220722759), (u'1210: Star Wars: Episode VI - Return of the Jedi (1983)', 2.7742152158304085), (u'2571: Matrix, The (1999)', 2.770176203123428), (u'318: Shawshank Redemption, The (1994)', 2.7239631000194673), (u'2762: Sixth Sense, The (1999)', 2.7162671331726407), (u'356: Forrest Gump (1994)', 2.7085502730962281), (u'2916: Total Recall (1990)', 2.7018261412839544), (u'1265: Groundhog Day (1993)', 2.6907197332431223), (u'780: Independence Day (ID4) (1996)', 2.6749509995371694), (u'1: Toy Story (1995)', 2.6668982678575537), (u'34: Babe (1995)', 2.6109454185869558)]\n"
     ]
    }
   ],
   "source": [
    "#Quiz2\n",
    "d = dict()\n",
    "for i in ratings.columns[1:21]:\n",
    "    sum_a = 0.0\n",
    "    sum_b = 0.0\n",
    "    for j in ratings.columns[1:21]:\n",
    "        if pd.isnull(ratings.iloc[1][1:21][j]) == False:\n",
    "            sum_a += item_item_sim_unnorm(ratings[i], ratings[j])*ratings.iloc[1][1:21][j]\n",
    "            sum_b += abs(item_item_sim_unnorm(ratings[i], ratings[j]))\n",
    "    \n",
    "    d[i] = sum_a/sum_b\n",
    "\n",
    "print(sorted(d.iteritems(), key=itemgetter(1), reverse=True))"
   ]
  },
  {
   "cell_type": "code",
   "execution_count": 239,
   "metadata": {
    "collapsed": false
   },
   "outputs": [
    {
     "data": {
      "text/plain": [
       "-0.37777070255778844"
      ]
     },
     "execution_count": 239,
     "metadata": {},
     "output_type": "execute_result"
    }
   ],
   "source": [
    "item_item_sim(norm_ratings[u'1: Toy Story (1995)'], norm_ratings[u'1210: Star Wars: Episode VI - Return of the Jedi (1983)'])"
   ]
  },
  {
   "cell_type": "code",
   "execution_count": 240,
   "metadata": {
    "collapsed": false
   },
   "outputs": [
    {
     "name": "stdout",
     "output_type": "stream",
     "text": [
      "[(u'1: Toy Story (1995)', 1.0000000000000002), (u'34: Babe (1995)', 0.55444750193353987), (u'356: Forrest Gump (1994)', 0.35577972454766571), (u'296: Pulp Fiction (1994)', 0.29501316508704811), (u'318: Shawshank Redemption, The (1994)', 0.21597537370665254), (u'2028: Saving Private Ryan (1998)', 0.19279858482944665), (u'2916: Total Recall (1990)', 0.18471220265778823), (u'3578: Gladiator (2000)', 0.13921371111490652), (u'2396: Shakespeare in Love (1998)', 0.11675543916439571), (u'541: Blade Runner (1982)', 0.02000738550895937), (u'260: Star Wars: Episode IV - A New Hope (1977)', -0.050337551330349603), (u'1265: Groundhog Day (1993)', -0.1055836923612558), (u\"527: Schindler's List (1993)\", -0.1467836107802884), (u'1259: Stand by Me (1986)', -0.22565691806008559), (u'2762: Sixth Sense, The (1999)', -0.24128093854653215), (u'1198: Raiders of the Lost Ark (1981)', -0.24885679814496334), (u'780: Independence Day (ID4) (1996)', -0.31990411258573898), (u'1210: Star Wars: Episode VI - Return of the Jedi (1983)', -0.37777070255778844), (u'2571: Matrix, The (1999)', -0.42033136932878529), (u'593: Silence of the Lambs, The (1991)', -0.60370783052315868)]\n"
     ]
    }
   ],
   "source": [
    "#Quiz3\n",
    "from operator import itemgetter\n",
    "d = dict()\n",
    "for i in ratings.columns[1:21]:\n",
    "    sim = item_item_sim(norm_ratings[u'1: Toy Story (1995)'], norm_ratings[i])\n",
    "    d[i] = sim\n",
    "    \n",
    "print(sorted(d.iteritems(), key=itemgetter(1), reverse=True))"
   ]
  },
  {
   "cell_type": "code",
   "execution_count": 245,
   "metadata": {
    "collapsed": false
   },
   "outputs": [
    {
     "name": "stdout",
     "output_type": "stream",
     "text": [
      "[(u'260: Star Wars: Episode IV - A New Hope (1977)', 1.7965910033852341), (u\"527: Schindler's List (1993)\", 1.7932520499581548), (u'1259: Stand by Me (1986)', 0.83291062971767937), (u'2396: Shakespeare in Love (1998)', 0.52870754412824816), (u'593: Silence of the Lambs, The (1991)', 0.45165934600315544), (u'2028: Saving Private Ryan (1998)', 0.32668656123430417), (u'356: Forrest Gump (1994)', 0.13524097479570557), (u'1198: Raiders of the Lost Ark (1981)', 0.092147269145074776), (u'296: Pulp Fiction (1994)', 0.035196090549965336), (u'1210: Star Wars: Episode VI - Return of the Jedi (1983)', 0.020386693660174055), (u'2571: Matrix, The (1999)', -0.088026946285509972), (u'541: Blade Runner (1982)', -0.12759795856192202), (u'3578: Gladiator (2000)', -0.44520457357679039), (u'780: Independence Day (ID4) (1996)', -0.72606730923612994), (u'2762: Sixth Sense, The (1999)', -0.73649392240230482), (u'2916: Total Recall (1990)', -0.7730370542493622), (u'1265: Groundhog Day (1993)', -0.84641355406302321), (u'318: Shawshank Redemption, The (1994)', -0.9290944442663851), (u'34: Babe (1995)', -0.94694321417990635), (u'1: Toy Story (1995)', -1.3023795782933372)]\n"
     ]
    }
   ],
   "source": [
    "#Quiz4\n",
    "d = dict()\n",
    "for i in norm_ratings.columns[1:21]:\n",
    "    sum_a = 0.0\n",
    "    sum_b = 0.0\n",
    "    for j in norm_ratings.columns[1:21]:\n",
    "        if pd.isnull(ratings.iloc[1][1:21][j]) == False:\n",
    "            sim = max(item_item_sim(norm_ratings[i], norm_ratings[j]), 0)\n",
    "            sum_a += sim*norm_ratings.iloc[1][1:21][j]\n",
    "            sum_b += abs(sim)\n",
    "    \n",
    "    d[i] = sum_a/sum_b\n",
    "\n",
    "print(sorted(d.iteritems(), key=itemgetter(1), reverse=True))"
   ]
  },
  {
   "cell_type": "code",
   "execution_count": null,
   "metadata": {
    "collapsed": true
   },
   "outputs": [],
   "source": []
  }
 ],
 "metadata": {
  "kernelspec": {
   "display_name": "Python 2",
   "language": "python",
   "name": "python2"
  },
  "language_info": {
   "codemirror_mode": {
    "name": "ipython",
    "version": 2
   },
   "file_extension": ".py",
   "mimetype": "text/x-python",
   "name": "python",
   "nbconvert_exporter": "python",
   "pygments_lexer": "ipython2",
   "version": "2.7.10"
  }
 },
 "nbformat": 4,
 "nbformat_minor": 0
}
